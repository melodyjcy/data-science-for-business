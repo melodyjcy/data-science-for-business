{
  "cells": [
    {
      "cell_type": "markdown",
      "metadata": {
        "id": "XVTrf6WYPhaK"
      },
      "source": [
        "To open notebook in Colab please click below:\n",
        "\n",
        "<a href=\"https://colab.research.google.com/github/pearl-yu/foster_2022fall/blob/2022-master/Homeworks/Pre-class%20HW.ipynb\" target=\"_parent\"> <img src=\"https://colab.research.google.com/assets/colab-badge.svg\" alt=\"Open In Colab\" /> </a>"
      ]
    },
    {
      "cell_type": "markdown",
      "metadata": {
        "id": "ghI96inSDwvO"
      },
      "source": [
        "### First things first --  Save your own copy of this notebook in your Google drive, and then delete this text cell! (If you're confused go through the [Colab Basics Jupyter Notebook](https://github.com/pearl-yu/foster_2022fall/blob/master/Module0_Basics/Colab%20Basics.ipynb))"
      ]
    },
    {
      "cell_type": "markdown",
      "metadata": {
        "id": "FCrFLVYQDwvP"
      },
      "source": [
        "# Pre-class Homework - Survey and Python review\n",
        "\n",
        "Welcome to the course! The purpose of this homework is to get to know you better and warm up your Python skills before the first class. Make sure to check out the referesher in Module0_Basics if it has been a while since the last time you coded. \n",
        "\n",
        "Please upload your completed notebook to Brightspace."
      ]
    },
    {
      "cell_type": "markdown",
      "metadata": {
        "id": "BOxr-plpDwvP"
      },
      "source": [
        "## Part 0: I have gone through the [Colab Basics Jupyter Notebook](https://github.com/pearl-yu/foster_2022fall/blob/master/Module0_Basics/Colab%20Basics.ipynb)"
      ]
    },
    {
      "cell_type": "markdown",
      "metadata": {
        "id": "kUz4dtWBDwvQ"
      },
      "source": [
        "** Mark \"Yes\" below. **"
      ]
    },
    {
      "cell_type": "markdown",
      "metadata": {
        "id": "tDFBGlvqDwvQ"
      },
      "source": [
        "__Yes__  I saved this Colab notebook and deleted the relevant cell above\n",
        "\n",
        "__Yes__  I have read and understood the Colab notebook"
      ]
    },
    {
      "cell_type": "markdown",
      "metadata": {
        "id": "mvdmgBrCDwvQ"
      },
      "source": [
        "## Part 1: Know the course"
      ]
    },
    {
      "cell_type": "markdown",
      "metadata": {
        "id": "BY_ZbEFIDwvR"
      },
      "source": [
        "** 1.1 Read the syllabus (available on Brightspace) in its entirety. Mark \"Yes\" below. **"
      ]
    },
    {
      "cell_type": "markdown",
      "metadata": {
        "id": "w4suRGTXDwvS"
      },
      "source": [
        "__Yes__  I have read and understood the syllabus for this class."
      ]
    },
    {
      "cell_type": "markdown",
      "metadata": {
        "id": "qyfSFyivDwvS"
      },
      "source": [
        "## Part 2: Let us know you better"
      ]
    },
    {
      "cell_type": "markdown",
      "metadata": {
        "id": "vBAS-IwdDwvS"
      },
      "source": [
        "** 2.1 Please go to this [link](https://forms.gle/LoLF75KxAHh2xczc6) and fill the survey. Mark \"Yes\" below. **"
      ]
    },
    {
      "cell_type": "markdown",
      "metadata": {
        "id": "DDJ5PgncDwvT"
      },
      "source": [
        "__Yes__  I have read and filled the survey for this class."
      ]
    },
    {
      "cell_type": "markdown",
      "metadata": {
        "id": "wn44HBPLDwvT"
      },
      "source": [
        "## Part 3: Python review"
      ]
    },
    {
      "cell_type": "markdown",
      "metadata": {
        "id": "O5b_tHFKDwvT"
      },
      "source": [
        "**3.1 Create one Python list of 5 unique fruits and another one with 5 unique colors. **"
      ]
    },
    {
      "cell_type": "code",
      "execution_count": null,
      "metadata": {
        "id": "JudQwX8iDwvT",
        "colab": {
          "base_uri": "https://localhost:8080/"
        },
        "outputId": "0618fd0d-deb8-40d7-e1e7-a178f9b8dc74"
      },
      "outputs": [
        {
          "output_type": "stream",
          "name": "stdout",
          "text": [
            "List of 5 unique fruits and another one with 5 unique colors:\n",
            "['Lemon', 'Watermelon', 'Grape', 'Strawberry', 'Coconut']\n",
            "apple ['Red', 'Green', 'White', 'Blue', 'Black']\n"
          ]
        }
      ],
      "source": [
        "fruit_list_1 = [\"Lemon\", \"Watermelon\", \"Grape\", \"Strawberry\", \"Coconut\"]\n",
        "apple_color_list_1 = [\"Red\", \"Green\", \"White\", \"Blue\", \"Black\"]\n",
        "print(\"List of 5 unique fruits and another one with 5 unique colors:\")\n",
        "print(fruit_list_1)\n",
        "print('apple', apple_color_list_1)"
      ]
    },
    {
      "cell_type": "markdown",
      "metadata": {
        "id": "cS3Y7LN4DwvU"
      },
      "source": [
        "**3.2 Go through each fruit (first list) and print out the name of the fruit with one color of the second list without repeating any color. **\n",
        "\n",
        "(don't worry, it doesn't have to be the color of the fruit!)\n",
        "\n",
        "Example of what you should print for one fruit:  _apple is purple_"
      ]
    },
    {
      "cell_type": "code",
      "source": [
        "for i in range(5):\n",
        "    fruit = fruit_list_1[i]\n",
        "    color = apple_color_list_1[i]\n",
        "    print(\"{} is {}\".format(fruit, color))"
      ],
      "metadata": {
        "id": "IAdYZAauxggK",
        "colab": {
          "base_uri": "https://localhost:8080/"
        },
        "outputId": "7f5cde17-eeb4-48c1-fdfb-a16cdaa57198"
      },
      "execution_count": null,
      "outputs": [
        {
          "output_type": "stream",
          "name": "stdout",
          "text": [
            "Coconut is Red\n",
            "Grape is Green\n",
            "Grapefruit is White\n",
            "Kiwi is Blue\n",
            "Lemon is Black\n"
          ]
        }
      ]
    },
    {
      "cell_type": "markdown",
      "metadata": {
        "id": "yCeRrVQ4DwvV"
      },
      "source": [
        "**3.3 Add two new fruits to your list with a _BUILT-IN_ function. **\n",
        "\n",
        "(You may want to look for the function with the **TAB** hint!)"
      ]
    },
    {
      "cell_type": "code",
      "source": [
        "fruit_list_1.append(\"Grapefruit\")\n",
        "fruit_list_1.append(\"Kiwi\")"
      ],
      "metadata": {
        "id": "xccYw9_K46fe"
      },
      "execution_count": null,
      "outputs": []
    },
    {
      "cell_type": "markdown",
      "metadata": {
        "id": "MU6t5UM2DwvV"
      },
      "source": [
        "**3.4 Use the list of fruits and sort the names (put them in alphabetical order). **\n",
        "\n",
        "(Hint: The lists in Python already have a function for that)"
      ]
    },
    {
      "cell_type": "code",
      "execution_count": null,
      "metadata": {
        "collapsed": true,
        "id": "Fv19_w4ODwvV",
        "colab": {
          "base_uri": "https://localhost:8080/"
        },
        "outputId": "d683ac8f-e805-496c-cdc2-4c8747d1e46f"
      },
      "outputs": [
        {
          "output_type": "stream",
          "name": "stdout",
          "text": [
            "['Coconut', 'Grape', 'Grapefruit', 'Kiwi', 'Lemon', 'Strawberry', 'Watermelon']\n"
          ]
        }
      ],
      "source": [
        "fruit_list_1.sort()\n",
        "print(fruit_list_1)"
      ]
    },
    {
      "cell_type": "markdown",
      "metadata": {
        "id": "Yth51NLcDwvV"
      },
      "source": [
        "**3.5 Create a new empty list called \"count_letters\". Go through your list of fruits, and for each one, add an entry to that new list (count_letters) telling the number of letters each fruit name. Then, print how many letters each fruit has.**\n",
        "\n",
        "Example of what you should print for one fruit: _apple is 5 letters_"
      ]
    },
    {
      "cell_type": "code",
      "execution_count": null,
      "metadata": {
        "collapsed": true,
        "id": "HC7FPjEeDwvV",
        "colab": {
          "base_uri": "https://localhost:8080/"
        },
        "outputId": "49892a00-f4e7-4aea-a69e-9bb7c3356ec7"
      },
      "outputs": [
        {
          "output_type": "stream",
          "name": "stdout",
          "text": [
            "Coconut has 7 letters\n",
            "Grape has 5 letters\n",
            "Grapefruit has 10 letters\n",
            "Kiwi has 4 letters\n",
            "Lemon has 5 letters\n",
            "Strawberry has 10 letters\n",
            "Watermelon has 10 letters\n"
          ]
        }
      ],
      "source": [
        "count_letters = []\n",
        "for i in range(len(fruit_list_1)):\n",
        "    fruit = fruit_list_1[i]\n",
        "    length = len(fruit)\n",
        "    count_letters.append(length)\n",
        "    print(\"{} has {} letters\".format(fruit, length))"
      ]
    },
    {
      "cell_type": "markdown",
      "metadata": {
        "id": "DPtQ-uZLDwvW"
      },
      "source": [
        "** 3.6 Make a function called `one_more` that takes a list (input_list) and returns a new list (output_list) where each element of the original will be increased by 1 and divided by 2. **"
      ]
    },
    {
      "cell_type": "code",
      "execution_count": null,
      "metadata": {
        "collapsed": true,
        "id": "JsqDHQevDwvW"
      },
      "outputs": [],
      "source": [
        "def one_more(input_list):\n",
        "    output_list = []   \n",
        "    # Your code goes here!\n",
        "    for i in range(len(input_list)):\n",
        "        output_list.append((input_list[i] + 1)/2)\n",
        "    return output_list"
      ]
    },
    {
      "cell_type": "markdown",
      "metadata": {
        "id": "-HEPe42oDwvW"
      },
      "source": [
        "** 3.7 Use the previous function to change the value of a list of 10 random numbers. **"
      ]
    },
    {
      "cell_type": "code",
      "source": [
        "# random list with 10 elements\n",
        "import random as r\n",
        "random_list = []\n",
        "for i in range(10):\n",
        "    random_list.append(r.randint(0, 100))\n",
        "print(\"original list:\", random_list)\n",
        "print(\"converted list: \",one_more(random_list))"
      ],
      "metadata": {
        "colab": {
          "base_uri": "https://localhost:8080/"
        },
        "id": "341I7OcP5eSk",
        "outputId": "7ef35d38-cd40-4466-a7c0-03cae38c02ee"
      },
      "execution_count": null,
      "outputs": [
        {
          "output_type": "stream",
          "name": "stdout",
          "text": [
            "original list: [4, 8, 18, 43, 60, 22, 90, 67, 68, 47]\n",
            "converted list:  [2.5, 4.5, 9.5, 22.0, 30.5, 11.5, 45.5, 34.0, 34.5, 24.0]\n"
          ]
        }
      ]
    },
    {
      "cell_type": "markdown",
      "metadata": {
        "collapsed": true,
        "id": "dSsFCR-VDwvX"
      },
      "source": [
        "# To submit the homework save it to your google drive (see Part 0), download it and upload to Brightspace under assignments\n",
        "\n"
      ]
    },
    {
      "cell_type": "code",
      "execution_count": null,
      "metadata": {
        "collapsed": true,
        "id": "PyyVEJRDDwvX"
      },
      "outputs": [],
      "source": []
    }
  ],
  "metadata": {
    "kernelspec": {
      "display_name": "Python 3",
      "language": "python",
      "name": "python3"
    },
    "language_info": {
      "codemirror_mode": {
        "name": "ipython",
        "version": 3
      },
      "file_extension": ".py",
      "mimetype": "text/x-python",
      "name": "python",
      "nbconvert_exporter": "python",
      "pygments_lexer": "ipython3",
      "version": "3.6.9"
    },
    "colab": {
      "provenance": []
    }
  },
  "nbformat": 4,
  "nbformat_minor": 0
}